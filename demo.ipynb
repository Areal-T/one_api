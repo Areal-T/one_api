{
 "cells": [
  {
   "cell_type": "code",
   "execution_count": 1,
   "metadata": {
    "executionInfo": {
     "elapsed": 4326,
     "status": "ok",
     "timestamp": 1695626088856,
     "user": {
      "displayName": "徐靖",
      "userId": "03433602867360988611"
     },
     "user_tz": -480
    },
    "id": "sxktTfb6dHAe"
   },
   "outputs": [],
   "source": [
    "import torch\n",
    "import torch.nn as nn\n",
    "import torch.optim as optim\n",
    "import torchvision\n",
    "import torchvision.transforms as transforms\n",
    "import torch.nn.functional as F\n",
    "from torch.utils.data import DataLoader, TensorDataset\n",
    "import torchvision.models as models\n",
    "\n",
    "from PIL import Image\n",
    "import pandas as pd\n",
    "\n",
    "import matplotlib.pyplot as plt\n",
    "import numpy as np\n",
    "import random\n",
    "from PIL import ImageEnhance\n",
    "import itertools\n",
    "\n",
    "from collections import Counter\n",
    "import sys"
   ]
  },
  {
   "cell_type": "code",
   "execution_count": 2,
   "metadata": {
    "colab": {
     "base_uri": "https://localhost:8080/"
    },
    "executionInfo": {
     "elapsed": 26170,
     "status": "ok",
     "timestamp": 1695626115006,
     "user": {
      "displayName": "徐靖",
      "userId": "03433602867360988611"
     },
     "user_tz": -480
    },
    "id": "iFDdlKqkdHAx",
    "outputId": "df0c687c-6405-44d0-cf3f-247a6025636b"
   },
   "outputs": [
    {
     "name": "stdout",
     "output_type": "stream",
     "text": [
      "Mounted at /content/drive\n"
     ]
    }
   ],
   "source": [
    "import os\n",
    "from google.colab import drive\n",
    "drive.mount(\"/content/drive\")\n",
    "train = pd.read_csv(\"/content/drive/MyDrive/Colab Notebooks/classify-leaves/train.csv\")\n",
    "test = pd.read_csv(\"/content/drive/MyDrive/Colab Notebooks/classify-leaves/test.csv\")"
   ]
  },
  {
   "cell_type": "markdown",
   "metadata": {
    "id": "foMK6OFrdHA0"
   },
   "source": [
    "read data"
   ]
  },
  {
   "cell_type": "code",
   "execution_count": null,
   "metadata": {
    "id": "jVxwL21GdHA6"
   },
   "outputs": [],
   "source": [
    "train = pd.read_csv(\"train.csv\")\n",
    "test = pd.read_csv(\"test.csv\")"
   ]
  },
  {
   "cell_type": "code",
   "execution_count": null,
   "metadata": {
    "id": "hYmarePidHA8"
   },
   "outputs": [],
   "source": [
    "train_datas_url=[]\n",
    "train_datas_url = list(train.iloc[:, 0])\n",
    "train_labels=[]\n",
    "train_labels = list(train.iloc[:, 1])"
   ]
  },
  {
   "cell_type": "markdown",
   "metadata": {
    "id": "oWw0FNAgdHBB"
   },
   "source": [
    "images to tensor"
   ]
  },
  {
   "cell_type": "code",
   "execution_count": null,
   "metadata": {
    "id": "gXYTNb12dHBD"
   },
   "outputs": [],
   "source": [
    "# 定义转换器\n",
    "transformer = transforms.Compose([\n",
    "    transforms.ToTensor(),\n",
    "    transforms.ColorJitter(contrast=0.5),  # 增强对比度\n",
    "    transforms.Normalize(mean=[0.5], std=[0.5])  # 归一化\n",
    "])"
   ]
  },
  {
   "cell_type": "code",
   "execution_count": null,
   "metadata": {
    "colab": {
     "base_uri": "https://localhost:8080/",
     "height": 387
    },
    "executionInfo": {
     "elapsed": 137924,
     "status": "error",
     "timestamp": 1695530243287,
     "user": {
      "displayName": "徐靖",
      "userId": "03433602867360988611"
     },
     "user_tz": -480
    },
    "id": "Ja3hBIdjdHBH",
    "outputId": "cfeefc30-85ac-4fe9-d95d-a3c5dc76c655"
   },
   "outputs": [
    {
     "ename": "KeyboardInterrupt",
     "evalue": "ignored",
     "output_type": "error",
     "traceback": [
      "\u001b[0;31m---------------------------------------------------------------------------\u001b[0m",
      "\u001b[0;31mKeyboardInterrupt\u001b[0m                         Traceback (most recent call last)",
      "\u001b[0;32m<ipython-input-7-3ce920e5fed2>\u001b[0m in \u001b[0;36m<cell line: 2>\u001b[0;34m()\u001b[0m\n\u001b[1;32m      3\u001b[0m     \u001b[0murl\u001b[0m \u001b[0;34m=\u001b[0m \u001b[0;34m\"/content/drive/MyDrive/Colab Notebooks/classify-leaves/\"\u001b[0m \u001b[0;34m+\u001b[0m \u001b[0mtrain_datas_url\u001b[0m\u001b[0;34m[\u001b[0m\u001b[0mi\u001b[0m\u001b[0;34m]\u001b[0m\u001b[0;34m\u001b[0m\u001b[0;34m\u001b[0m\u001b[0m\n\u001b[1;32m      4\u001b[0m     \u001b[0;31m# url = train_datas_url[i]\u001b[0m\u001b[0;34m\u001b[0m\u001b[0;34m\u001b[0m\u001b[0m\n\u001b[0;32m----> 5\u001b[0;31m     \u001b[0mimage\u001b[0m \u001b[0;34m=\u001b[0m \u001b[0mImage\u001b[0m\u001b[0;34m.\u001b[0m\u001b[0mopen\u001b[0m\u001b[0;34m(\u001b[0m\u001b[0murl\u001b[0m\u001b[0;34m)\u001b[0m\u001b[0;34m.\u001b[0m\u001b[0mconvert\u001b[0m\u001b[0;34m(\u001b[0m\u001b[0;34m'L'\u001b[0m\u001b[0;34m)\u001b[0m\u001b[0;34m\u001b[0m\u001b[0;34m\u001b[0m\u001b[0m\n\u001b[0m\u001b[1;32m      6\u001b[0m     \u001b[0mtensor\u001b[0m \u001b[0;34m=\u001b[0m \u001b[0mtransformer\u001b[0m\u001b[0;34m(\u001b[0m\u001b[0mimage\u001b[0m\u001b[0;34m)\u001b[0m\u001b[0;34m.\u001b[0m\u001b[0mtype\u001b[0m\u001b[0;34m(\u001b[0m\u001b[0mtorch\u001b[0m\u001b[0;34m.\u001b[0m\u001b[0mfloat16\u001b[0m\u001b[0;34m)\u001b[0m\u001b[0;34m\u001b[0m\u001b[0;34m\u001b[0m\u001b[0m\n\u001b[1;32m      7\u001b[0m     \u001b[0mtrain_images_tensor\u001b[0m\u001b[0;34m.\u001b[0m\u001b[0mappend\u001b[0m\u001b[0;34m(\u001b[0m\u001b[0mtensor\u001b[0m\u001b[0;34m)\u001b[0m\u001b[0;34m\u001b[0m\u001b[0;34m\u001b[0m\u001b[0m\n",
      "\u001b[0;32m/usr/local/lib/python3.10/dist-packages/PIL/Image.py\u001b[0m in \u001b[0;36mopen\u001b[0;34m(fp, mode, formats)\u001b[0m\n\u001b[1;32m   3234\u001b[0m         \u001b[0mexclusive_fp\u001b[0m \u001b[0;34m=\u001b[0m \u001b[0;32mTrue\u001b[0m\u001b[0;34m\u001b[0m\u001b[0;34m\u001b[0m\u001b[0m\n\u001b[1;32m   3235\u001b[0m \u001b[0;34m\u001b[0m\u001b[0m\n\u001b[0;32m-> 3236\u001b[0;31m     \u001b[0mprefix\u001b[0m \u001b[0;34m=\u001b[0m \u001b[0mfp\u001b[0m\u001b[0;34m.\u001b[0m\u001b[0mread\u001b[0m\u001b[0;34m(\u001b[0m\u001b[0;36m16\u001b[0m\u001b[0;34m)\u001b[0m\u001b[0;34m\u001b[0m\u001b[0;34m\u001b[0m\u001b[0m\n\u001b[0m\u001b[1;32m   3237\u001b[0m \u001b[0;34m\u001b[0m\u001b[0m\n\u001b[1;32m   3238\u001b[0m     \u001b[0mpreinit\u001b[0m\u001b[0;34m(\u001b[0m\u001b[0;34m)\u001b[0m\u001b[0;34m\u001b[0m\u001b[0;34m\u001b[0m\u001b[0m\n",
      "\u001b[0;31mKeyboardInterrupt\u001b[0m: "
     ]
    }
   ],
   "source": [
    "train_images_tensor = []\n",
    "for i in range(len(train_datas_url)):\n",
    "    url = train_datas_url[i]\n",
    "    image = Image.open(url).convert('L')\n",
    "    tensor = transformer(image).type(torch.float16)\n",
    "    train_images_tensor.append(tensor)"
   ]
  },
  {
   "cell_type": "markdown",
   "metadata": {
    "id": "_LZ0rijodHBL"
   },
   "source": [
    "labels to tensor"
   ]
  },
  {
   "cell_type": "code",
   "execution_count": null,
   "metadata": {
    "id": "TeSduzmrdHBN"
   },
   "outputs": [],
   "source": [
    "# labels to nums\n",
    "counter = Counter(train_labels)\n",
    "labels_title = list(counter.keys())\n",
    "labels_num = []\n",
    "for i in range(len(labels_title)):\n",
    "    labels_num.append(i)\n",
    "# title - number"
   ]
  },
  {
   "cell_type": "code",
   "execution_count": null,
   "metadata": {
    "id": "g2Er2gH4dHBP",
    "outputId": "9f789024-4c5d-492d-f078-b446b649f470"
   },
   "outputs": [
    {
     "name": "stdout",
     "output_type": "stream",
     "text": [
      "176\n",
      "176\n"
     ]
    }
   ],
   "source": [
    "# nums of output\n",
    "print(len(labels_title))\n",
    "print(len(labels_num))"
   ]
  },
  {
   "cell_type": "code",
   "execution_count": null,
   "metadata": {
    "id": "YKL4lsjsdHBQ"
   },
   "outputs": [],
   "source": [
    "train_labels_tensor = []\n",
    "for i in range(len(train_labels)):\n",
    "    label_tensor = torch.tensor(labels_title.index(train_labels[i]))\n",
    "    train_labels_tensor.append(label_tensor)"
   ]
  },
  {
   "cell_type": "markdown",
   "metadata": {
    "id": "1QlG3MqrdHBR"
   },
   "source": [
    "save and load tensor"
   ]
  },
  {
   "cell_type": "code",
   "execution_count": null,
   "metadata": {
    "id": "mHVLbDUBdHBS"
   },
   "outputs": [],
   "source": [
    "torch.save(train_images_tensor, 'train_images_tensor.pt')"
   ]
  },
  {
   "cell_type": "code",
   "execution_count": 2,
   "metadata": {
    "executionInfo": {
     "elapsed": 21441,
     "status": "ok",
     "timestamp": 1695626136439,
     "user": {
      "displayName": "徐靖",
      "userId": "03433602867360988611"
     },
     "user_tz": -480
    },
    "id": "ss5CJha-dHBT"
   },
   "outputs": [
    {
     "ename": "KeyboardInterrupt",
     "evalue": "",
     "output_type": "error",
     "traceback": [
      "\u001b[1;31m---------------------------------------------------------------------------\u001b[0m",
      "\u001b[1;31mKeyboardInterrupt\u001b[0m                         Traceback (most recent call last)",
      "\u001b[1;32mz:\\Program\\pytorch\\classify-leaves\\demo.ipynb 单元格 15\u001b[0m line \u001b[0;36m1\n\u001b[1;32m----> <a href='vscode-notebook-cell:/z%3A/Program/pytorch/classify-leaves/demo.ipynb#X20sZmlsZQ%3D%3D?line=0'>1</a>\u001b[0m train_images_tensor \u001b[39m=\u001b[39m torch\u001b[39m.\u001b[39;49mload(\u001b[39m'\u001b[39;49m\u001b[39mtrain_images_tensor.pt\u001b[39;49m\u001b[39m'\u001b[39;49m)\n",
      "File \u001b[1;32mz:\\Program\\pytorch\\.d2l_torch\\lib\\site-packages\\torch\\serialization.py:809\u001b[0m, in \u001b[0;36mload\u001b[1;34m(f, map_location, pickle_module, weights_only, **pickle_load_args)\u001b[0m\n\u001b[0;32m    807\u001b[0m             \u001b[39mexcept\u001b[39;00m \u001b[39mRuntimeError\u001b[39;00m \u001b[39mas\u001b[39;00m e:\n\u001b[0;32m    808\u001b[0m                 \u001b[39mraise\u001b[39;00m pickle\u001b[39m.\u001b[39mUnpicklingError(UNSAFE_MESSAGE \u001b[39m+\u001b[39m \u001b[39mstr\u001b[39m(e)) \u001b[39mfrom\u001b[39;00m \u001b[39mNone\u001b[39;00m\n\u001b[1;32m--> 809\u001b[0m         \u001b[39mreturn\u001b[39;00m _load(opened_zipfile, map_location, pickle_module, \u001b[39m*\u001b[39m\u001b[39m*\u001b[39mpickle_load_args)\n\u001b[0;32m    810\u001b[0m \u001b[39mif\u001b[39;00m weights_only:\n\u001b[0;32m    811\u001b[0m     \u001b[39mtry\u001b[39;00m:\n",
      "File \u001b[1;32mz:\\Program\\pytorch\\.d2l_torch\\lib\\site-packages\\torch\\serialization.py:1172\u001b[0m, in \u001b[0;36m_load\u001b[1;34m(zip_file, map_location, pickle_module, pickle_file, **pickle_load_args)\u001b[0m\n\u001b[0;32m   1170\u001b[0m unpickler \u001b[39m=\u001b[39m UnpicklerWrapper(data_file, \u001b[39m*\u001b[39m\u001b[39m*\u001b[39mpickle_load_args)\n\u001b[0;32m   1171\u001b[0m unpickler\u001b[39m.\u001b[39mpersistent_load \u001b[39m=\u001b[39m persistent_load\n\u001b[1;32m-> 1172\u001b[0m result \u001b[39m=\u001b[39m unpickler\u001b[39m.\u001b[39;49mload()\n\u001b[0;32m   1174\u001b[0m torch\u001b[39m.\u001b[39m_utils\u001b[39m.\u001b[39m_validate_loaded_sparse_tensors()\n\u001b[0;32m   1176\u001b[0m \u001b[39mreturn\u001b[39;00m result\n",
      "File \u001b[1;32mz:\\Program\\pytorch\\.d2l_torch\\lib\\site-packages\\torch\\serialization.py:1142\u001b[0m, in \u001b[0;36m_load.<locals>.persistent_load\u001b[1;34m(saved_id)\u001b[0m\n\u001b[0;32m   1140\u001b[0m \u001b[39melse\u001b[39;00m:\n\u001b[0;32m   1141\u001b[0m     nbytes \u001b[39m=\u001b[39m numel \u001b[39m*\u001b[39m torch\u001b[39m.\u001b[39m_utils\u001b[39m.\u001b[39m_element_size(dtype)\n\u001b[1;32m-> 1142\u001b[0m     typed_storage \u001b[39m=\u001b[39m load_tensor(dtype, nbytes, key, _maybe_decode_ascii(location))\n\u001b[0;32m   1144\u001b[0m \u001b[39mreturn\u001b[39;00m typed_storage\n",
      "File \u001b[1;32mz:\\Program\\pytorch\\.d2l_torch\\lib\\site-packages\\torch\\serialization.py:1112\u001b[0m, in \u001b[0;36m_load.<locals>.load_tensor\u001b[1;34m(dtype, numel, key, location)\u001b[0m\n\u001b[0;32m   1109\u001b[0m \u001b[39mdef\u001b[39;00m \u001b[39mload_tensor\u001b[39m(dtype, numel, key, location):\n\u001b[0;32m   1110\u001b[0m     name \u001b[39m=\u001b[39m \u001b[39mf\u001b[39m\u001b[39m'\u001b[39m\u001b[39mdata/\u001b[39m\u001b[39m{\u001b[39;00mkey\u001b[39m}\u001b[39;00m\u001b[39m'\u001b[39m\n\u001b[1;32m-> 1112\u001b[0m     storage \u001b[39m=\u001b[39m zip_file\u001b[39m.\u001b[39;49mget_storage_from_record(name, numel, torch\u001b[39m.\u001b[39;49mUntypedStorage)\u001b[39m.\u001b[39m_typed_storage()\u001b[39m.\u001b[39m_untyped_storage\n\u001b[0;32m   1113\u001b[0m     \u001b[39m# TODO: Once we decide to break serialization FC, we can\u001b[39;00m\n\u001b[0;32m   1114\u001b[0m     \u001b[39m# stop wrapping with TypedStorage\u001b[39;00m\n\u001b[0;32m   1115\u001b[0m     typed_storage \u001b[39m=\u001b[39m torch\u001b[39m.\u001b[39mstorage\u001b[39m.\u001b[39mTypedStorage(\n\u001b[0;32m   1116\u001b[0m         wrap_storage\u001b[39m=\u001b[39mrestore_location(storage, location),\n\u001b[0;32m   1117\u001b[0m         dtype\u001b[39m=\u001b[39mdtype,\n\u001b[0;32m   1118\u001b[0m         _internal\u001b[39m=\u001b[39m\u001b[39mTrue\u001b[39;00m)\n",
      "\u001b[1;31mKeyboardInterrupt\u001b[0m: "
     ]
    }
   ],
   "source": [
    "train_images_tensor = torch.load('train_images_tensor.pt')"
   ]
  },
  {
   "cell_type": "code",
   "execution_count": null,
   "metadata": {
    "id": "QAKChZVOdHBT"
   },
   "outputs": [],
   "source": [
    "torch.save(train_labels_tensor, 'train_labels_tensor.pt')"
   ]
  },
  {
   "cell_type": "code",
   "execution_count": null,
   "metadata": {
    "executionInfo": {
     "elapsed": 1108,
     "status": "ok",
     "timestamp": 1695626137520,
     "user": {
      "displayName": "徐靖",
      "userId": "03433602867360988611"
     },
     "user_tz": -480
    },
    "id": "858vHkGAdHBU"
   },
   "outputs": [],
   "source": [
    "train_labels_tensor = torch.load('train_labels_tensor.pt')"
   ]
  },
  {
   "cell_type": "code",
   "execution_count": null,
   "metadata": {
    "executionInfo": {
     "elapsed": 1334,
     "status": "ok",
     "timestamp": 1695626138829,
     "user": {
      "displayName": "徐靖",
      "userId": "03433602867360988611"
     },
     "user_tz": -480
    },
    "id": "TcxEh0QzdHBV"
   },
   "outputs": [],
   "source": [
    "train_datas_tensor = torch.stack(train_images_tensor)\n",
    "train_labels_tensor = torch.stack(train_labels_tensor)"
   ]
  },
  {
   "cell_type": "code",
   "execution_count": null,
   "metadata": {
    "executionInfo": {
     "elapsed": 35,
     "status": "ok",
     "timestamp": 1695626138833,
     "user": {
      "displayName": "徐靖",
      "userId": "03433602867360988611"
     },
     "user_tz": -480
    },
    "id": "2VLXQTEzdHBV"
   },
   "outputs": [],
   "source": [
    "train_dataset = TensorDataset(train_labels_tensor, train_datas_tensor)\n",
    "train_dataloader = DataLoader(train_dataset, batch_size=256, shuffle=True)"
   ]
  },
  {
   "cell_type": "markdown",
   "metadata": {
    "id": "Lv5oG0pYdHBW"
   },
   "source": [
    "model def"
   ]
  },
  {
   "cell_type": "code",
   "execution_count": null,
   "metadata": {
    "colab": {
     "base_uri": "https://localhost:8080/"
    },
    "executionInfo": {
     "elapsed": 11943,
     "status": "ok",
     "timestamp": 1695539382957,
     "user": {
      "displayName": "徐靖",
      "userId": "03433602867360988611"
     },
     "user_tz": -480
    },
    "id": "FxWF0HriruqZ",
    "outputId": "b46834d1-92d6-4023-fb16-34008f531651"
   },
   "outputs": [
    {
     "name": "stderr",
     "output_type": "stream",
     "text": [
      "/usr/local/lib/python3.10/dist-packages/torchvision/models/_utils.py:208: UserWarning: The parameter 'pretrained' is deprecated since 0.13 and may be removed in the future, please use 'weights' instead.\n",
      "  warnings.warn(\n",
      "/usr/local/lib/python3.10/dist-packages/torchvision/models/_utils.py:223: UserWarning: Arguments other than a weight enum or `None` for 'weights' are deprecated since 0.13 and may be removed in the future. The current behavior is equivalent to passing `weights=VGG16_Weights.IMAGENET1K_V1`. You can also use `weights=VGG16_Weights.DEFAULT` to get the most up-to-date weights.\n",
      "  warnings.warn(msg)\n",
      "Downloading: \"https://download.pytorch.org/models/vgg16-397923af.pth\" to /root/.cache/torch/hub/checkpoints/vgg16-397923af.pth\n",
      "100%|██████████| 528M/528M [00:03<00:00, 174MB/s]\n"
     ]
    }
   ],
   "source": [
    "# 加载预训练的VGG16模型\n",
    "# 创建VGG16模型实例\n",
    "net = torchvision.models.vgg16(pretrained=True)\n",
    "\n",
    "# 修改输入层\n",
    "net.features[0] = nn.Conv2d(1, 64, kernel_size=3, padding=1)\n",
    "\n",
    "# 修改输出层\n",
    "num_features = net.classifier[6].in_features\n",
    "net.classifier[6] = nn.Linear(num_features, 176)\n",
    "\n",
    "# 将模型移动到CUDA设备上\n",
    "device = torch.device(\"cuda:0\" if torch.cuda.is_available() else \"cpu\")\n",
    "net.to(device).half()\n",
    "\n",
    "# 定义损失函数和优化器\n",
    "criterion = nn.CrossEntropyLoss()\n",
    "optimizer = torch.optim.SGD(net.parameters(), lr=0.001, momentum=0.9)"
   ]
  },
  {
   "cell_type": "code",
   "execution_count": 7,
   "metadata": {
    "colab": {
     "base_uri": "https://localhost:8080/"
    },
    "executionInfo": {
     "elapsed": 7494,
     "status": "ok",
     "timestamp": 1695626146301,
     "user": {
      "displayName": "徐靖",
      "userId": "03433602867360988611"
     },
     "user_tz": -480
    },
    "id": "ZeXOdYuULYJd",
    "outputId": "d6f0e711-0a2a-4aec-e883-d941d877199a"
   },
   "outputs": [
    {
     "name": "stderr",
     "output_type": "stream",
     "text": [
      "/usr/local/lib/python3.10/dist-packages/torchvision/models/_utils.py:208: UserWarning: The parameter 'pretrained' is deprecated since 0.13 and may be removed in the future, please use 'weights' instead.\n",
      "  warnings.warn(\n",
      "/usr/local/lib/python3.10/dist-packages/torchvision/models/_utils.py:223: UserWarning: Arguments other than a weight enum or `None` for 'weights' are deprecated since 0.13 and may be removed in the future. The current behavior is equivalent to passing `weights=ResNet50_Weights.IMAGENET1K_V1`. You can also use `weights=ResNet50_Weights.DEFAULT` to get the most up-to-date weights.\n",
      "  warnings.warn(msg)\n",
      "Downloading: \"https://download.pytorch.org/models/resnet50-0676ba61.pth\" to /root/.cache/torch/hub/checkpoints/resnet50-0676ba61.pth\n",
      "100%|██████████| 97.8M/97.8M [00:00<00:00, 127MB/s]\n"
     ]
    }
   ],
   "source": [
    "# 加载预训练的ResNet50模型\n",
    "# 创建ResNet50模型实例\n",
    "net = torchvision.models.resnet50(pretrained=True)\n",
    "\n",
    "# 修改输入层\n",
    "net.conv1 = nn.Conv2d(1, 64, kernel_size=7, stride=2, padding=3, bias=False)\n",
    "\n",
    "# 修改输出层\n",
    "num_features = net.fc.in_features\n",
    "net.fc = nn.Linear(num_features, 176)\n",
    "\n",
    "# 将模型移动到CUDA设备上\n",
    "device = torch.device(\"cuda:0\" if torch.cuda.is_available() else \"cpu\")\n",
    "net.to(device).half()\n",
    "\n",
    "# 定义损失函数和优化器\n",
    "criterion = nn.CrossEntropyLoss()\n",
    "optimizer = torch.optim.SGD(net.parameters(), lr=0.001, momentum=0.9)\n"
   ]
  },
  {
   "cell_type": "code",
   "execution_count": 7,
   "metadata": {
    "colab": {
     "base_uri": "https://localhost:8080/"
    },
    "executionInfo": {
     "elapsed": 6604,
     "status": "ok",
     "timestamp": 1695623916107,
     "user": {
      "displayName": "徐靖",
      "userId": "03433602867360988611"
     },
     "user_tz": -480
    },
    "id": "VppphDAz2F2_",
    "outputId": "8353844a-067c-4599-d435-4a5896a81ffb"
   },
   "outputs": [
    {
     "name": "stderr",
     "output_type": "stream",
     "text": [
      "/usr/local/lib/python3.10/dist-packages/torchvision/models/_utils.py:208: UserWarning: The parameter 'pretrained' is deprecated since 0.13 and may be removed in the future, please use 'weights' instead.\n",
      "  warnings.warn(\n",
      "/usr/local/lib/python3.10/dist-packages/torchvision/models/_utils.py:223: UserWarning: Arguments other than a weight enum or `None` for 'weights' are deprecated since 0.13 and may be removed in the future. The current behavior is equivalent to passing `weights=ResNet18_Weights.IMAGENET1K_V1`. You can also use `weights=ResNet18_Weights.DEFAULT` to get the most up-to-date weights.\n",
      "  warnings.warn(msg)\n",
      "Downloading: \"https://download.pytorch.org/models/resnet18-f37072fd.pth\" to /root/.cache/torch/hub/checkpoints/resnet18-f37072fd.pth\n",
      "100%|██████████| 44.7M/44.7M [00:00<00:00, 127MB/s]\n"
     ]
    }
   ],
   "source": [
    "# 加载预训练的ResNet18模型\n",
    "# 创建ResNet18模型实例\n",
    "net = torchvision.models.resnet18(pretrained=True)\n",
    "\n",
    "# 修改输入层\n",
    "net.conv1 = nn.Conv2d(1, 64, kernel_size=7, stride=2, padding=3, bias=False)\n",
    "\n",
    "# 修改输出层\n",
    "num_features = net.fc.in_features\n",
    "net.fc = nn.Linear(num_features, 176)\n",
    "\n",
    "# 将模型移动到CUDA设备上\n",
    "device = torch.device(\"cuda:0\" if torch.cuda.is_available() else \"cpu\")\n",
    "net.to(device).half()\n",
    "\n",
    "# 定义损失函数和优化器\n",
    "criterion = nn.CrossEntropyLoss()\n",
    "optimizer = torch.optim.SGD(net.parameters(), lr=0.001, momentum=0.9)"
   ]
  },
  {
   "cell_type": "markdown",
   "metadata": {
    "id": "EHmamQwMdHBY"
   },
   "source": [
    "train && acc"
   ]
  },
  {
   "cell_type": "code",
   "execution_count": 10,
   "metadata": {
    "colab": {
     "base_uri": "https://localhost:8080/",
     "height": 179
    },
    "executionInfo": {
     "elapsed": 877,
     "status": "error",
     "timestamp": 1695623785179,
     "user": {
      "displayName": "徐靖",
      "userId": "03433602867360988611"
     },
     "user_tz": -480
    },
    "id": "GucED9_yUnjh",
    "outputId": "dac1e023-db2c-4a64-ef45-ea1ebdac7c75"
   },
   "outputs": [
    {
     "ename": "NameError",
     "evalue": "ignored",
     "output_type": "error",
     "traceback": [
      "\u001b[0;31m---------------------------------------------------------------------------\u001b[0m",
      "\u001b[0;31mNameError\u001b[0m                                 Traceback (most recent call last)",
      "\u001b[0;32m<ipython-input-10-12924b3d9fe3>\u001b[0m in \u001b[0;36m<cell line: 1>\u001b[0;34m()\u001b[0m\n\u001b[0;32m----> 1\u001b[0;31m \u001b[0;32mdel\u001b[0m \u001b[0mnet\u001b[0m\u001b[0;34m,\u001b[0m \u001b[0mlabels\u001b[0m\u001b[0;34m,\u001b[0m \u001b[0minputs\u001b[0m\u001b[0;34m,\u001b[0m \u001b[0moutputs\u001b[0m\u001b[0;34m,\u001b[0m \u001b[0mloss\u001b[0m\u001b[0;34m,\u001b[0m \u001b[0moptimizer\u001b[0m\u001b[0;34m,\u001b[0m \u001b[0mcriterion\u001b[0m\u001b[0;34m,\u001b[0m \u001b[0mimages\u001b[0m\u001b[0;34m\u001b[0m\u001b[0;34m\u001b[0m\u001b[0m\n\u001b[0m",
      "\u001b[0;31mNameError\u001b[0m: name 'images' is not defined"
     ]
    }
   ],
   "source": [
    "del net, labels, inputs, outputs, loss, optimizer, criterion, images"
   ]
  },
  {
   "cell_type": "code",
   "execution_count": 11,
   "metadata": {
    "executionInfo": {
     "elapsed": 47,
     "status": "ok",
     "timestamp": 1695623791475,
     "user": {
      "displayName": "徐靖",
      "userId": "03433602867360988611"
     },
     "user_tz": -480
    },
    "id": "lfg6f8gUUCD6"
   },
   "outputs": [],
   "source": [
    "torch.cuda.empty_cache()"
   ]
  },
  {
   "cell_type": "code",
   "execution_count": 10,
   "metadata": {
    "colab": {
     "base_uri": "https://localhost:8080/"
    },
    "executionInfo": {
     "elapsed": 1101485,
     "status": "ok",
     "timestamp": 1695630057767,
     "user": {
      "displayName": "徐靖",
      "userId": "03433602867360988611"
     },
     "user_tz": -480
    },
    "id": "bdDK7DaAdHBY",
    "outputId": "6ab32510-c68c-491f-ed5f-1e44e5ae99df"
   },
   "outputs": [
    {
     "name": "stdout",
     "output_type": "stream",
     "text": [
      "[1, 14080] loss: 0.412\n",
      "[2, 14080] loss: 0.391\n",
      "[3, 14080] loss: 0.378\n",
      "[4, 14080] loss: 0.365\n",
      "[5, 14080] loss: 0.346\n",
      "[6, 14080] loss: 0.341\n",
      "[7, 14080] loss: 0.327\n",
      "[8, 14080] loss: 0.313\n",
      "[9, 14080] loss: 0.308\n",
      "[10, 14080] loss: 0.297\n",
      "[11, 14080] loss: 0.285\n",
      "[12, 14080] loss: 0.277\n",
      "[13, 14080] loss: 0.266\n",
      "[14, 14080] loss: 0.262\n",
      "[15, 14080] loss: 0.255\n",
      "[16, 14080] loss: 0.247\n",
      "[17, 14080] loss: 0.240\n",
      "[18, 14080] loss: 0.238\n",
      "[19, 14080] loss: 0.226\n",
      "[20, 14080] loss: 0.225\n",
      "Finished Training\n"
     ]
    }
   ],
   "source": [
    "for epoch in range(70):\n",
    "\n",
    "    running_loss = 0.0\n",
    "    num_images = 0\n",
    "    for i, data in enumerate(train_dataloader, 0):\n",
    "        labels, inputs = data[0].to(device), data[1].to(device)\n",
    "        optimizer.zero_grad()\n",
    "\n",
    "        outputs = net(inputs)\n",
    "        loss = criterion(outputs, labels)\n",
    "        loss.backward()\n",
    "        optimizer.step()\n",
    "\n",
    "        num_images += inputs.size(0)\n",
    "        running_loss += loss.item()\n",
    "        if num_images >= 14000: #18352\n",
    "            print('[%d, %5d] loss: %.3f' %\n",
    "                  (epoch + 1, num_images, running_loss*256 / num_images))\n",
    "            running_loss = 0.0\n",
    "            break\n",
    "\n",
    "print('Finished Training')"
   ]
  },
  {
   "cell_type": "code",
   "execution_count": 11,
   "metadata": {
    "colab": {
     "base_uri": "https://localhost:8080/"
    },
    "executionInfo": {
     "elapsed": 27434,
     "status": "ok",
     "timestamp": 1695630101699,
     "user": {
      "displayName": "徐靖",
      "userId": "03433602867360988611"
     },
     "user_tz": -480
    },
    "id": "f3_dxHrVdHBa",
    "outputId": "2574eabf-b9aa-4afe-d367-a824d54ff57e"
   },
   "outputs": [
    {
     "name": "stdout",
     "output_type": "stream",
     "text": [
      "Accuracy on test set: 98.78%\n"
     ]
    }
   ],
   "source": [
    "correct = 0\n",
    "total = 0\n",
    "\n",
    "# 计算要跳过的批次数量\n",
    "skip_batches = int(14000/256) // train_dataloader.batch_size\n",
    "\n",
    "# 使用itertools.islice()来跳过前  数据\n",
    "data_iter = itertools.islice(train_dataloader, skip_batches, None)\n",
    "\n",
    "with torch.no_grad():\n",
    "    for data in data_iter:\n",
    "        images, labels = data[1].to(device), data[0].to(device)\n",
    "        outputs = net(images)\n",
    "        _, predicted = torch.max(outputs.data, 1)\n",
    "        total += labels.size(0)\n",
    "        correct += (predicted == labels).sum().item()\n",
    "\n",
    "print(f\"Accuracy on test set: {100 * correct / total:.2f}%\")\n"
   ]
  },
  {
   "cell_type": "code",
   "execution_count": null,
   "metadata": {
    "id": "-29xDztr8CH9"
   },
   "outputs": [],
   "source": [
    "torch.save(net.state_dict(), 'resnet50_model_1.pth')"
   ]
  },
  {
   "cell_type": "markdown",
   "metadata": {
    "id": "VLhP-lLNdHBb"
   },
   "source": [
    "test"
   ]
  },
  {
   "cell_type": "code",
   "execution_count": null,
   "metadata": {
    "id": "x_QZw-vhdHBc"
   },
   "outputs": [],
   "source": []
  }
 ],
 "metadata": {
  "accelerator": "GPU",
  "colab": {
   "gpuType": "T4",
   "provenance": []
  },
  "kernelspec": {
   "display_name": "Python 3 (ipykernel)",
   "language": "python",
   "name": "python3"
  },
  "language_info": {
   "codemirror_mode": {
    "name": "ipython",
    "version": 3
   },
   "file_extension": ".py",
   "mimetype": "text/x-python",
   "name": "python",
   "nbconvert_exporter": "python",
   "pygments_lexer": "ipython3",
   "version": "3.8.12"
  }
 },
 "nbformat": 4,
 "nbformat_minor": 4
}
