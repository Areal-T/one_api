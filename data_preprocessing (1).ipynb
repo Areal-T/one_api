{
 "cells": [
  {
   "cell_type": "code",
   "execution_count": 17,
   "id": "9ea10906",
   "metadata": {},
   "outputs": [],
   "source": [
    "import imagehash\n",
    "from PIL import Image\n",
    "import os\n",
    "# import cv2\n",
    "import csv"
   ]
  },
  {
   "cell_type": "markdown",
   "id": "4aad6fa2",
   "metadata": {},
   "source": [
    "-数据预处理：\n",
    "    1、清洗-去掉对训练不利，误导的图片。保留特征强的图片（什么为特征强的图片？）\n",
    "    2、预处理-图片图像转换，缩放，裁剪，数据增强（\n",
    "    图像转换-色彩转灰度？-图片中主体旋转对齐？\n",
    "    缩放-图片主体大小统一\n",
    "    裁剪-图片尺寸\n",
    "    数据增强-单样本增强-几何变换类（翻转、旋转、裁剪、变形、缩放），颜色变换类（噪声、模糊、颜色变换、擦除、填充）\n",
    "    3、标注-对图像进行分类保存，目录名为类型名（分几类，如何分类！！！）\n",
    "    4、格式转换-保成利于加载解码快速的格式，比如：JPG->TFRecord,JPG->NumPy）"
   ]
  },
  {
   "cell_type": "code",
   "execution_count": 8,
   "id": "9a3012fd",
   "metadata": {},
   "outputs": [],
   "source": [
    "def remove_duplicates(images_dir):\n",
    "    # 根据图片hash值，去除重复图片\n",
    "    image_files = [f for f in os.listdir(images_dir) if f.endswith('.JPG')]\n",
    "    hashes = {}\n",
    "    for image_file in image_files:\n",
    "        with Image.open(os.path.join(images_dir,image_file)) as img:\n",
    "            hash_value = str(imagehash.average_hash(img))\n",
    "            if hash_value in hashes:\n",
    "                os.remove(os.path.join(images_dir,image_file))\n",
    "            else:\n",
    "                hashes[hash_value] = image_file"
   ]
  },
  {
   "cell_type": "code",
   "execution_count": 9,
   "id": "f2ea049f",
   "metadata": {},
   "outputs": [],
   "source": [
    "def filter_images(images_dir):\n",
    "    # 通过灰度均值过滤低质量图片\n",
    "    image_files = [f for f in os.listdir(images_dir) if f.endswith('.JPG')]\n",
    "    \n",
    "    for image_file in image_files:\n",
    "        img = cv2.imread(os.path.join(image_dir,image_file))\n",
    "        gray = cv2.cvtColor(img,cv2.COLOR_BER2GRAY)\n",
    "        mean_val = cv2.mean(gray)[0]\n",
    "        \n",
    "        if mean_val < 50:\n",
    "            os.remove(os.path.join(images_dir,image_file))"
   ]
  },
  {
   "cell_type": "code",
   "execution_count": 24,
   "id": "11ae8860",
   "metadata": {},
   "outputs": [],
   "source": [
    "def get_file_name(images_dir):\n",
    "    images_files = [f for f in os.listdir(images_dir) if f.endswith('.JPG')]\n",
    "    images_files.sort()\n",
    "    with open(r'./data.txt','a') as f:\n",
    "        for i in images_files:\n",
    "            f.write(i+'\\n')\n",
    "    f.close()\n",
    "    print('文件写入完成！！！')"
   ]
  },
  {
   "cell_type": "code",
   "execution_count": 25,
   "id": "46818a92",
   "metadata": {},
   "outputs": [
    {
     "name": "stdout",
     "output_type": "stream",
     "text": [
      "文件写入完成！！！\n"
     ]
    }
   ],
   "source": [
    "get_file_name(r'/root/.jupyter/defect_product')"
   ]
  },
  {
   "cell_type": "code",
   "execution_count": null,
   "id": "5ed5d000",
   "metadata": {},
   "outputs": [],
   "source": []
  }
 ],
 "metadata": {
  "kernelspec": {
   "display_name": "Python 3 (ipykernel)",
   "language": "python",
   "name": "python3"
  },
  "language_info": {
   "codemirror_mode": {
    "name": "ipython",
    "version": 3
   },
   "file_extension": ".py",
   "mimetype": "text/x-python",
   "name": "python",
   "nbconvert_exporter": "python",
   "pygments_lexer": "ipython3",
   "version": "3.8.12"
  }
 },
 "nbformat": 4,
 "nbformat_minor": 5
}
